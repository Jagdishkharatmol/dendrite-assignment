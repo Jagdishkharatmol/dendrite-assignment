{
  "nbformat": 4,
  "nbformat_minor": 0,
  "metadata": {
    "colab": {
      "name": "Dendrite_ai_assignment_jagdish.ipynb",
      "provenance": []
    },
    "kernelspec": {
      "name": "python3",
      "display_name": "Python 3"
    },
    "language_info": {
      "name": "python"
    }
  },
  "cells": [
    {
      "cell_type": "code",
      "execution_count": 68,
      "metadata": {
        "id": "as6R9gjoVBe9"
      },
      "outputs": [],
      "source": [
        "import json\n",
        "import pandas as pd \n",
        "import numpy as np\n",
        "import matplotlib.pyplot as plt\n",
        "from sklearn.impute import SimpleImputer\n",
        "from sklearn.model_selection import  train_test_split\n",
        "from sklearn.linear_model import LinearRegression,Lasso,LogisticRegression,SGDRegressor,Ridge\n",
        "from sklearn.tree import DecisionTreeClassifier,DecisionTreeRegressor\n",
        "from sklearn.model_selection import  train_test_split\n",
        "from sklearn.ensemble import RandomForestRegressor,RandomForestClassifier,GradientBoostingClassifier,GradientBoostingRegressor\n",
        "from sklearn.metrics import mean_squared_error,accuracy_score\n",
        "from sklearn.model_selection import GridSearchCV\n",
        "import warnings\n",
        "warnings.filterwarnings(\"ignore\")"
      ]
    },
    {
      "cell_type": "markdown",
      "source": [
        "### **Reading the neccesary data required**"
      ],
      "metadata": {
        "id": "2p_YBo3yYRF0"
      }
    },
    {
      "cell_type": "code",
      "source": [
        "file=open('/content/algoparams_from_ui.json')\n",
        "model_info=json.load(file)\n",
        "print(model_info)"
      ],
      "metadata": {
        "colab": {
          "base_uri": "https://localhost:8080/"
        },
        "id": "f1LmBXIFV__y",
        "outputId": "e9ab6653-ec18-4d3d-92dc-586825debefc"
      },
      "execution_count": 27,
      "outputs": [
        {
          "output_type": "stream",
          "name": "stdout",
          "text": [
            "{'session_name': 'test', 'session_description': 'test', 'design_state_data': {'session_info': {'project_id': '1', 'experiment_id': 'kkkk-11', 'dataset': 'iris_modified.csv', 'session_name': 'test', 'session_description': 'test'}, 'target': {'prediction_type': 'Regression', 'target': 'petal_width', 'type': 'regression', 'partitioning': True}, 'train': {'policy': 'Split the dataset', 'time_variable': 'sepal_length', 'sampling_method': 'No sampling(whole data)', 'split': 'Randomly', 'k_fold': False, 'train_ratio': 0, 'random_seed': 0}, 'metrics': {'optomize_model_hyperparameters_for': 'AUC', 'optimize_threshold_for': 'F1 Score', 'compute_lift_at': 0, 'cost_matrix_gain_for_true_prediction_true_result': 1, 'cost_matrix_gain_for_true_prediction_false_result': 0, 'cost_matrix_gain_for_false_prediction_true_result': 0, 'cost_matrix_gain_for_false_prediction_false_result': 0}, 'feature_handling': {'sepal_length': {'feature_name': 'sepal_length', 'is_selected': True, 'feature_variable_type': 'numerical', 'feature_details': {'numerical_handling': 'Keep as regular numerical feature', 'rescaling': 'No rescaling', 'make_derived_feats': False, 'missing_values': 'Impute', 'impute_with': 'Average of values', 'impute_value': 0}}, 'sepal_width': {'feature_name': 'sepal_width', 'is_selected': True, 'feature_variable_type': 'numerical', 'feature_details': {'numerical_handling': 'Keep as regular numerical feature', 'rescaling': 'No rescaling', 'make_derived_feats': False, 'missing_values': 'Impute', 'impute_with': 'custom', 'impute_value': -1}}, 'petal_length': {'feature_name': 'petal_length', 'is_selected': True, 'feature_variable_type': 'numerical', 'feature_details': {'numerical_handling': 'Keep as regular numerical feature', 'rescaling': 'No rescaling', 'make_derived_feats': False, 'missing_values': 'Impute', 'impute_with': 'Average of values', 'impute_value': 0}}, 'petal_width': {'feature_name': 'petal_width', 'is_selected': True, 'feature_variable_type': 'numerical', 'feature_details': {'numerical_handling': 'Keep as regular numerical feature', 'rescaling': 'No rescaling', 'make_derived_feats': False, 'missing_values': 'Impute', 'impute_with': 'custom', 'impute_value': -2}}, 'species': {'feature_name': 'species', 'is_selected': True, 'feature_variable_type': 'text', 'feature_details': {'text_handling': 'Tokenize and hash', 'hash_columns': 0}}}, 'feature_generation': {'linear_interactions': [['petal_length', 'sepal_width']], 'linear_scalar_type': 'robust', 'polynomial_interactions': ['petal_length/sepal_width', 'petal_width/species'], 'explicit_pairwise_interactions': ['sepal_width/sepal_length', 'petal_width/sepal_length']}, 'feature_reduction': {'feature_reduction_method': 'Tree-based', 'num_of_features_to_keep': '4', 'num_of_trees': '5', 'depth_of_trees': '6'}, 'hyperparameters': {'stratergy': 'Grid Search', 'shuffle_grid': True, 'random_state': 1, 'max_iterations': 2, 'max_search_time': 3, 'parallelism': 5, 'cross_validation_stratergy': 'Time-based K-fold(with overlap)', 'num_of_folds': 6, 'split_ratio': 0, 'stratified': True}, 'weighting_stratergy': {'weighting_stratergy_method': 'Sample weights', 'weighting_stratergy_weight_variable': 'petal_length'}, 'probability_calibration': {'probability_calibration_method': 'Sigmoid - Platt Scaling'}, 'algorithms': {'RandomForestClassifier': {'model_name': 'Random Forest Classifier', 'is_selected': False, 'min_trees': 10, 'max_trees': 30, 'feature_sampling_statergy': 'Default', 'min_depth': 20, 'max_depth': 30, 'min_samples_per_leaf_min_value': 5, 'min_samples_per_leaf_max_value': 50, 'parallelism': 0}, 'RandomForestRegressor': {'model_name': 'Random Forest Regressor', 'is_selected': True, 'min_trees': 10, 'max_trees': 20, 'feature_sampling_statergy': 'Default', 'min_depth': 20, 'max_depth': 25, 'min_samples_per_leaf_min_value': 5, 'min_samples_per_leaf_max_value': 10, 'parallelism': 0}, 'GBTClassifier': {'model_name': 'Gradient Boosted Trees', 'is_selected': False, 'num_of_BoostingStages': [67, 89], 'feature_sampling_statergy': 'Fixed number', 'learningRate': [], 'use_deviance': True, 'use_exponential': False, 'fixed_number': 22, 'min_subsample': 1, 'max_subsample': 2, 'min_stepsize': 0.1, 'max_stepsize': 0.5, 'min_iter': 20, 'max_iter': 40, 'min_depth': 5, 'max_depth': 7}, 'GBTRegressor': {'model_name': 'Gradient Boosted Trees', 'is_selected': False, 'num_of_BoostingStages': [67, 89], 'feature_sampling_statergy': 'Fixed number', 'use_deviance': True, 'use_exponential': False, 'fixed_number': 22, 'min_subsample': 1, 'max_subsample': 2, 'min_stepsize': 0.1, 'max_stepsize': 0.5, 'min_iter': 20, 'max_iter': 40, 'min_depth': 5, 'max_depth': 7}, 'LinearRegression': {'model_name': 'LinearRegression', 'is_selected': False, 'parallelism': 2, 'min_iter': 30, 'max_iter': 50, 'min_regparam': 0.5, 'max_regparam': 0.8, 'min_elasticnet': 0.5, 'max_elasticnet': 0.8}, 'LogisticRegression': {'model_name': 'LogisticRegression', 'is_selected': False, 'parallelism': 2, 'min_iter': 30, 'max_iter': 50, 'min_regparam': 0.5, 'max_regparam': 0.8, 'min_elasticnet': 0.5, 'max_elasticnet': 0.8}, 'RidgeRegression': {'model_name': 'RidgeRegression', 'is_selected': False, 'regularization_term': 'Specify values to test', 'min_iter': 30, 'max_iter': 50, 'min_regparam': 0.5, 'max_regparam': 0.8}, 'LassoRegression': {'model_name': 'Lasso Regression', 'is_selected': False, 'regularization_term': 'Specify values to test', 'min_iter': 30, 'max_iter': 50, 'min_regparam': 0.5, 'max_regparam': 0.8}, 'ElasticNetRegression': {'model_name': 'Lasso Regression', 'is_selected': False, 'regularization_term': 'Specify values to test', 'min_iter': 30, 'max_iter': 50, 'min_regparam': 0.5, 'max_regparam': 0.8, 'min_elasticnet': 0.5, 'max_elasticnet': 0.8}, 'xg_boost': {'model_name': 'XG Boost', 'is_selected': False, 'use_gradient_boosted_tree': True, 'dart': True, 'tree_method': '', 'random_state': 0, 'max_num_of_trees': 0, 'early_stopping': True, 'early_stopping_rounds': 2, 'max_depth_of_tree': [56, 89], 'learningRate': [89, 76], 'l1_regularization': [77], 'l2_regularization': [78], 'gamma': [68], 'min_child_weight': [67], 'sub_sample': [67], 'col_sample_by_tree': [67], 'replace_missing_values': False, 'parallelism': 0}, 'DecisionTreeRegressor': {'model_name': 'Decision Tree', 'is_selected': False, 'min_depth': 4, 'max_depth': 7, 'use_gini': False, 'use_entropy': True, 'min_samples_per_leaf': [12, 6], 'use_best': True, 'use_random': True}, 'DecisionTreeClassifier': {'model_name': 'Decision Tree', 'is_selected': False, 'min_depth': 4, 'max_depth': 7, 'use_gini': False, 'use_entropy': True, 'min_samples_per_leaf': [12, 6], 'use_best': True, 'use_random': True}, 'SVM': {'model_name': 'Support Vector Machine', 'is_selected': False, 'linear_kernel': True, 'rep_kernel': True, 'polynomial_kernel': True, 'sigmoid_kernel': True, 'c_value': [566, 79], 'auto': True, 'scale': True, 'custom_gamma_values': True, 'tolerance': 7, 'max_iterations': 7}, 'SGD': {'model_name': 'Stochastic Gradient Descent', 'is_selected': False, 'use_logistics': True, 'use_modified_hubber_loss': False, 'max_iterations': False, 'tolerance': 56, 'use_l1_regularization': 'on', 'use_l2_regularization': 'on', 'use_elastic_net_regularization': True, 'alpha_value': [79, 56], 'parallelism': 1}, 'KNN': {'model_name': 'KNN', 'is_selected': False, 'k_value': [78], 'distance_weighting': True, 'neighbour_finding_algorithm': 'Automatic', 'random_state': 0, 'p_value': 0}, 'extra_random_trees': {'model_name': 'Extra Random Trees', 'is_selected': False, 'num_of_trees': [45, 489], 'feature_sampling_statergy': 'Square root and Logarithm', 'max_depth': [12, 45], 'min_samples_per_leaf': [78, 56], 'parallelism': 3}, 'neural_network': {'model_name': 'Neural Network', 'is_selected': False, 'hidden_layer_sizes': [67, 89], 'activation': '', 'alpha_value': 0, 'max_iterations': 0, 'convergence_tolerance': 0, 'early_stopping': True, 'solver': 'ADAM', 'shuffle_data': True, 'initial_learning_rate': 0, 'automatic_batching': True, 'beta_1': 0, 'beta_2': 0, 'epsilon': 0, 'power_t': 0, 'momentum': 0, 'use_nesterov_momentum': False}}}}\n"
          ]
        }
      ]
    },
    {
      "cell_type": "code",
      "source": [
        "df=pd.read_csv(\"/content/iris.csv\")\n",
        "df.head()"
      ],
      "metadata": {
        "colab": {
          "base_uri": "https://localhost:8080/",
          "height": 206
        },
        "id": "wji6-OC5Wdmb",
        "outputId": "0987bb84-a0a4-4a35-b659-f167eac4d289"
      },
      "execution_count": 28,
      "outputs": [
        {
          "output_type": "execute_result",
          "data": {
            "text/plain": [
              "   sepal_length  sepal_width  petal_length  petal_width      species\n",
              "0           5.1          3.5           1.4          0.2  Iris-setosa\n",
              "1           4.9          3.0           1.4          0.2  Iris-setosa\n",
              "2           4.7          3.2           1.3          0.2  Iris-setosa\n",
              "3           4.6          3.1           1.5          0.2  Iris-setosa\n",
              "4           5.0          3.6           1.4          0.2  Iris-setosa"
            ],
            "text/html": [
              "\n",
              "  <div id=\"df-33af4b08-ffed-4f50-8cb7-0613c56e8fc6\">\n",
              "    <div class=\"colab-df-container\">\n",
              "      <div>\n",
              "<style scoped>\n",
              "    .dataframe tbody tr th:only-of-type {\n",
              "        vertical-align: middle;\n",
              "    }\n",
              "\n",
              "    .dataframe tbody tr th {\n",
              "        vertical-align: top;\n",
              "    }\n",
              "\n",
              "    .dataframe thead th {\n",
              "        text-align: right;\n",
              "    }\n",
              "</style>\n",
              "<table border=\"1\" class=\"dataframe\">\n",
              "  <thead>\n",
              "    <tr style=\"text-align: right;\">\n",
              "      <th></th>\n",
              "      <th>sepal_length</th>\n",
              "      <th>sepal_width</th>\n",
              "      <th>petal_length</th>\n",
              "      <th>petal_width</th>\n",
              "      <th>species</th>\n",
              "    </tr>\n",
              "  </thead>\n",
              "  <tbody>\n",
              "    <tr>\n",
              "      <th>0</th>\n",
              "      <td>5.1</td>\n",
              "      <td>3.5</td>\n",
              "      <td>1.4</td>\n",
              "      <td>0.2</td>\n",
              "      <td>Iris-setosa</td>\n",
              "    </tr>\n",
              "    <tr>\n",
              "      <th>1</th>\n",
              "      <td>4.9</td>\n",
              "      <td>3.0</td>\n",
              "      <td>1.4</td>\n",
              "      <td>0.2</td>\n",
              "      <td>Iris-setosa</td>\n",
              "    </tr>\n",
              "    <tr>\n",
              "      <th>2</th>\n",
              "      <td>4.7</td>\n",
              "      <td>3.2</td>\n",
              "      <td>1.3</td>\n",
              "      <td>0.2</td>\n",
              "      <td>Iris-setosa</td>\n",
              "    </tr>\n",
              "    <tr>\n",
              "      <th>3</th>\n",
              "      <td>4.6</td>\n",
              "      <td>3.1</td>\n",
              "      <td>1.5</td>\n",
              "      <td>0.2</td>\n",
              "      <td>Iris-setosa</td>\n",
              "    </tr>\n",
              "    <tr>\n",
              "      <th>4</th>\n",
              "      <td>5.0</td>\n",
              "      <td>3.6</td>\n",
              "      <td>1.4</td>\n",
              "      <td>0.2</td>\n",
              "      <td>Iris-setosa</td>\n",
              "    </tr>\n",
              "  </tbody>\n",
              "</table>\n",
              "</div>\n",
              "      <button class=\"colab-df-convert\" onclick=\"convertToInteractive('df-33af4b08-ffed-4f50-8cb7-0613c56e8fc6')\"\n",
              "              title=\"Convert this dataframe to an interactive table.\"\n",
              "              style=\"display:none;\">\n",
              "        \n",
              "  <svg xmlns=\"http://www.w3.org/2000/svg\" height=\"24px\"viewBox=\"0 0 24 24\"\n",
              "       width=\"24px\">\n",
              "    <path d=\"M0 0h24v24H0V0z\" fill=\"none\"/>\n",
              "    <path d=\"M18.56 5.44l.94 2.06.94-2.06 2.06-.94-2.06-.94-.94-2.06-.94 2.06-2.06.94zm-11 1L8.5 8.5l.94-2.06 2.06-.94-2.06-.94L8.5 2.5l-.94 2.06-2.06.94zm10 10l.94 2.06.94-2.06 2.06-.94-2.06-.94-.94-2.06-.94 2.06-2.06.94z\"/><path d=\"M17.41 7.96l-1.37-1.37c-.4-.4-.92-.59-1.43-.59-.52 0-1.04.2-1.43.59L10.3 9.45l-7.72 7.72c-.78.78-.78 2.05 0 2.83L4 21.41c.39.39.9.59 1.41.59.51 0 1.02-.2 1.41-.59l7.78-7.78 2.81-2.81c.8-.78.8-2.07 0-2.86zM5.41 20L4 18.59l7.72-7.72 1.47 1.35L5.41 20z\"/>\n",
              "  </svg>\n",
              "      </button>\n",
              "      \n",
              "  <style>\n",
              "    .colab-df-container {\n",
              "      display:flex;\n",
              "      flex-wrap:wrap;\n",
              "      gap: 12px;\n",
              "    }\n",
              "\n",
              "    .colab-df-convert {\n",
              "      background-color: #E8F0FE;\n",
              "      border: none;\n",
              "      border-radius: 50%;\n",
              "      cursor: pointer;\n",
              "      display: none;\n",
              "      fill: #1967D2;\n",
              "      height: 32px;\n",
              "      padding: 0 0 0 0;\n",
              "      width: 32px;\n",
              "    }\n",
              "\n",
              "    .colab-df-convert:hover {\n",
              "      background-color: #E2EBFA;\n",
              "      box-shadow: 0px 1px 2px rgba(60, 64, 67, 0.3), 0px 1px 3px 1px rgba(60, 64, 67, 0.15);\n",
              "      fill: #174EA6;\n",
              "    }\n",
              "\n",
              "    [theme=dark] .colab-df-convert {\n",
              "      background-color: #3B4455;\n",
              "      fill: #D2E3FC;\n",
              "    }\n",
              "\n",
              "    [theme=dark] .colab-df-convert:hover {\n",
              "      background-color: #434B5C;\n",
              "      box-shadow: 0px 1px 3px 1px rgba(0, 0, 0, 0.15);\n",
              "      filter: drop-shadow(0px 1px 2px rgba(0, 0, 0, 0.3));\n",
              "      fill: #FFFFFF;\n",
              "    }\n",
              "  </style>\n",
              "\n",
              "      <script>\n",
              "        const buttonEl =\n",
              "          document.querySelector('#df-33af4b08-ffed-4f50-8cb7-0613c56e8fc6 button.colab-df-convert');\n",
              "        buttonEl.style.display =\n",
              "          google.colab.kernel.accessAllowed ? 'block' : 'none';\n",
              "\n",
              "        async function convertToInteractive(key) {\n",
              "          const element = document.querySelector('#df-33af4b08-ffed-4f50-8cb7-0613c56e8fc6');\n",
              "          const dataTable =\n",
              "            await google.colab.kernel.invokeFunction('convertToInteractive',\n",
              "                                                     [key], {});\n",
              "          if (!dataTable) return;\n",
              "\n",
              "          const docLinkHtml = 'Like what you see? Visit the ' +\n",
              "            '<a target=\"_blank\" href=https://colab.research.google.com/notebooks/data_table.ipynb>data table notebook</a>'\n",
              "            + ' to learn more about interactive tables.';\n",
              "          element.innerHTML = '';\n",
              "          dataTable['output_type'] = 'display_data';\n",
              "          await google.colab.output.renderOutput(dataTable, element);\n",
              "          const docLink = document.createElement('div');\n",
              "          docLink.innerHTML = docLinkHtml;\n",
              "          element.appendChild(docLink);\n",
              "        }\n",
              "      </script>\n",
              "    </div>\n",
              "  </div>\n",
              "  "
            ]
          },
          "metadata": {},
          "execution_count": 28
        }
      ]
    },
    {
      "cell_type": "code",
      "source": [
        "info=['train','target','metrics']\n",
        "for topic in info:\n",
        "  print(f'{topic}:',model_info['design_state_data'][topic])"
      ],
      "metadata": {
        "colab": {
          "base_uri": "https://localhost:8080/"
        },
        "id": "wxqFPjKQZcen",
        "outputId": "29e1d2dd-b4fe-48f1-bbf7-cc8553aacbbf"
      },
      "execution_count": 29,
      "outputs": [
        {
          "output_type": "stream",
          "name": "stdout",
          "text": [
            "train: {'policy': 'Split the dataset', 'time_variable': 'sepal_length', 'sampling_method': 'No sampling(whole data)', 'split': 'Randomly', 'k_fold': False, 'train_ratio': 0, 'random_seed': 0}\n",
            "target: {'prediction_type': 'Regression', 'target': 'petal_width', 'type': 'regression', 'partitioning': True}\n",
            "metrics: {'optomize_model_hyperparameters_for': 'AUC', 'optimize_threshold_for': 'F1 Score', 'compute_lift_at': 0, 'cost_matrix_gain_for_true_prediction_true_result': 1, 'cost_matrix_gain_for_true_prediction_false_result': 0, 'cost_matrix_gain_for_false_prediction_true_result': 0, 'cost_matrix_gain_for_false_prediction_false_result': 0}\n"
          ]
        }
      ]
    },
    {
      "cell_type": "code",
      "source": [
        "info=['sepal_length','sepal_width','petal_length','petal_width','species']\n",
        "for topic in info:\n",
        "  print(model_info['design_state_data'][\"feature_handling\"][topic])"
      ],
      "metadata": {
        "colab": {
          "base_uri": "https://localhost:8080/"
        },
        "id": "r3YXdqQkdAkI",
        "outputId": "a97fdfee-70f9-4b17-bb5f-69530817c365"
      },
      "execution_count": 30,
      "outputs": [
        {
          "output_type": "stream",
          "name": "stdout",
          "text": [
            "{'feature_name': 'sepal_length', 'is_selected': True, 'feature_variable_type': 'numerical', 'feature_details': {'numerical_handling': 'Keep as regular numerical feature', 'rescaling': 'No rescaling', 'make_derived_feats': False, 'missing_values': 'Impute', 'impute_with': 'Average of values', 'impute_value': 0}}\n",
            "{'feature_name': 'sepal_width', 'is_selected': True, 'feature_variable_type': 'numerical', 'feature_details': {'numerical_handling': 'Keep as regular numerical feature', 'rescaling': 'No rescaling', 'make_derived_feats': False, 'missing_values': 'Impute', 'impute_with': 'custom', 'impute_value': -1}}\n",
            "{'feature_name': 'petal_length', 'is_selected': True, 'feature_variable_type': 'numerical', 'feature_details': {'numerical_handling': 'Keep as regular numerical feature', 'rescaling': 'No rescaling', 'make_derived_feats': False, 'missing_values': 'Impute', 'impute_with': 'Average of values', 'impute_value': 0}}\n",
            "{'feature_name': 'petal_width', 'is_selected': True, 'feature_variable_type': 'numerical', 'feature_details': {'numerical_handling': 'Keep as regular numerical feature', 'rescaling': 'No rescaling', 'make_derived_feats': False, 'missing_values': 'Impute', 'impute_with': 'custom', 'impute_value': -2}}\n",
            "{'feature_name': 'species', 'is_selected': True, 'feature_variable_type': 'text', 'feature_details': {'text_handling': 'Tokenize and hash', 'hash_columns': 0}}\n"
          ]
        }
      ]
    },
    {
      "cell_type": "markdown",
      "source": [
        "### **Preparing data for model**"
      ],
      "metadata": {
        "id": "N6PYIyuaZZTm"
      }
    },
    {
      "cell_type": "code",
      "source": [
        "df.dtypes"
      ],
      "metadata": {
        "colab": {
          "base_uri": "https://localhost:8080/"
        },
        "id": "9PV-VtFZYwcK",
        "outputId": "46da3dc3-9585-4c7c-fb0f-ed15072b3f9e"
      },
      "execution_count": 31,
      "outputs": [
        {
          "output_type": "execute_result",
          "data": {
            "text/plain": [
              "sepal_length    float64\n",
              "sepal_width     float64\n",
              "petal_length    float64\n",
              "petal_width     float64\n",
              "species          object\n",
              "dtype: object"
            ]
          },
          "metadata": {},
          "execution_count": 31
        }
      ]
    },
    {
      "cell_type": "code",
      "source": [
        "#performing one hot encoding on species column \n",
        "df=pd.get_dummies(df)\n",
        "df.head()"
      ],
      "metadata": {
        "id": "IPkV23q4ij3Y",
        "colab": {
          "base_uri": "https://localhost:8080/",
          "height": 206
        },
        "outputId": "7b34396c-2721-4ecd-f74e-71b127ecba2a"
      },
      "execution_count": 32,
      "outputs": [
        {
          "output_type": "execute_result",
          "data": {
            "text/plain": [
              "   sepal_length  sepal_width  petal_length  petal_width  species_Iris-setosa  \\\n",
              "0           5.1          3.5           1.4          0.2                    1   \n",
              "1           4.9          3.0           1.4          0.2                    1   \n",
              "2           4.7          3.2           1.3          0.2                    1   \n",
              "3           4.6          3.1           1.5          0.2                    1   \n",
              "4           5.0          3.6           1.4          0.2                    1   \n",
              "\n",
              "   species_Iris-versicolor  species_Iris-virginica  \n",
              "0                        0                       0  \n",
              "1                        0                       0  \n",
              "2                        0                       0  \n",
              "3                        0                       0  \n",
              "4                        0                       0  "
            ],
            "text/html": [
              "\n",
              "  <div id=\"df-c364b0f4-98fb-462e-ba88-b4e1f0680e10\">\n",
              "    <div class=\"colab-df-container\">\n",
              "      <div>\n",
              "<style scoped>\n",
              "    .dataframe tbody tr th:only-of-type {\n",
              "        vertical-align: middle;\n",
              "    }\n",
              "\n",
              "    .dataframe tbody tr th {\n",
              "        vertical-align: top;\n",
              "    }\n",
              "\n",
              "    .dataframe thead th {\n",
              "        text-align: right;\n",
              "    }\n",
              "</style>\n",
              "<table border=\"1\" class=\"dataframe\">\n",
              "  <thead>\n",
              "    <tr style=\"text-align: right;\">\n",
              "      <th></th>\n",
              "      <th>sepal_length</th>\n",
              "      <th>sepal_width</th>\n",
              "      <th>petal_length</th>\n",
              "      <th>petal_width</th>\n",
              "      <th>species_Iris-setosa</th>\n",
              "      <th>species_Iris-versicolor</th>\n",
              "      <th>species_Iris-virginica</th>\n",
              "    </tr>\n",
              "  </thead>\n",
              "  <tbody>\n",
              "    <tr>\n",
              "      <th>0</th>\n",
              "      <td>5.1</td>\n",
              "      <td>3.5</td>\n",
              "      <td>1.4</td>\n",
              "      <td>0.2</td>\n",
              "      <td>1</td>\n",
              "      <td>0</td>\n",
              "      <td>0</td>\n",
              "    </tr>\n",
              "    <tr>\n",
              "      <th>1</th>\n",
              "      <td>4.9</td>\n",
              "      <td>3.0</td>\n",
              "      <td>1.4</td>\n",
              "      <td>0.2</td>\n",
              "      <td>1</td>\n",
              "      <td>0</td>\n",
              "      <td>0</td>\n",
              "    </tr>\n",
              "    <tr>\n",
              "      <th>2</th>\n",
              "      <td>4.7</td>\n",
              "      <td>3.2</td>\n",
              "      <td>1.3</td>\n",
              "      <td>0.2</td>\n",
              "      <td>1</td>\n",
              "      <td>0</td>\n",
              "      <td>0</td>\n",
              "    </tr>\n",
              "    <tr>\n",
              "      <th>3</th>\n",
              "      <td>4.6</td>\n",
              "      <td>3.1</td>\n",
              "      <td>1.5</td>\n",
              "      <td>0.2</td>\n",
              "      <td>1</td>\n",
              "      <td>0</td>\n",
              "      <td>0</td>\n",
              "    </tr>\n",
              "    <tr>\n",
              "      <th>4</th>\n",
              "      <td>5.0</td>\n",
              "      <td>3.6</td>\n",
              "      <td>1.4</td>\n",
              "      <td>0.2</td>\n",
              "      <td>1</td>\n",
              "      <td>0</td>\n",
              "      <td>0</td>\n",
              "    </tr>\n",
              "  </tbody>\n",
              "</table>\n",
              "</div>\n",
              "      <button class=\"colab-df-convert\" onclick=\"convertToInteractive('df-c364b0f4-98fb-462e-ba88-b4e1f0680e10')\"\n",
              "              title=\"Convert this dataframe to an interactive table.\"\n",
              "              style=\"display:none;\">\n",
              "        \n",
              "  <svg xmlns=\"http://www.w3.org/2000/svg\" height=\"24px\"viewBox=\"0 0 24 24\"\n",
              "       width=\"24px\">\n",
              "    <path d=\"M0 0h24v24H0V0z\" fill=\"none\"/>\n",
              "    <path d=\"M18.56 5.44l.94 2.06.94-2.06 2.06-.94-2.06-.94-.94-2.06-.94 2.06-2.06.94zm-11 1L8.5 8.5l.94-2.06 2.06-.94-2.06-.94L8.5 2.5l-.94 2.06-2.06.94zm10 10l.94 2.06.94-2.06 2.06-.94-2.06-.94-.94-2.06-.94 2.06-2.06.94z\"/><path d=\"M17.41 7.96l-1.37-1.37c-.4-.4-.92-.59-1.43-.59-.52 0-1.04.2-1.43.59L10.3 9.45l-7.72 7.72c-.78.78-.78 2.05 0 2.83L4 21.41c.39.39.9.59 1.41.59.51 0 1.02-.2 1.41-.59l7.78-7.78 2.81-2.81c.8-.78.8-2.07 0-2.86zM5.41 20L4 18.59l7.72-7.72 1.47 1.35L5.41 20z\"/>\n",
              "  </svg>\n",
              "      </button>\n",
              "      \n",
              "  <style>\n",
              "    .colab-df-container {\n",
              "      display:flex;\n",
              "      flex-wrap:wrap;\n",
              "      gap: 12px;\n",
              "    }\n",
              "\n",
              "    .colab-df-convert {\n",
              "      background-color: #E8F0FE;\n",
              "      border: none;\n",
              "      border-radius: 50%;\n",
              "      cursor: pointer;\n",
              "      display: none;\n",
              "      fill: #1967D2;\n",
              "      height: 32px;\n",
              "      padding: 0 0 0 0;\n",
              "      width: 32px;\n",
              "    }\n",
              "\n",
              "    .colab-df-convert:hover {\n",
              "      background-color: #E2EBFA;\n",
              "      box-shadow: 0px 1px 2px rgba(60, 64, 67, 0.3), 0px 1px 3px 1px rgba(60, 64, 67, 0.15);\n",
              "      fill: #174EA6;\n",
              "    }\n",
              "\n",
              "    [theme=dark] .colab-df-convert {\n",
              "      background-color: #3B4455;\n",
              "      fill: #D2E3FC;\n",
              "    }\n",
              "\n",
              "    [theme=dark] .colab-df-convert:hover {\n",
              "      background-color: #434B5C;\n",
              "      box-shadow: 0px 1px 3px 1px rgba(0, 0, 0, 0.15);\n",
              "      filter: drop-shadow(0px 1px 2px rgba(0, 0, 0, 0.3));\n",
              "      fill: #FFFFFF;\n",
              "    }\n",
              "  </style>\n",
              "\n",
              "      <script>\n",
              "        const buttonEl =\n",
              "          document.querySelector('#df-c364b0f4-98fb-462e-ba88-b4e1f0680e10 button.colab-df-convert');\n",
              "        buttonEl.style.display =\n",
              "          google.colab.kernel.accessAllowed ? 'block' : 'none';\n",
              "\n",
              "        async function convertToInteractive(key) {\n",
              "          const element = document.querySelector('#df-c364b0f4-98fb-462e-ba88-b4e1f0680e10');\n",
              "          const dataTable =\n",
              "            await google.colab.kernel.invokeFunction('convertToInteractive',\n",
              "                                                     [key], {});\n",
              "          if (!dataTable) return;\n",
              "\n",
              "          const docLinkHtml = 'Like what you see? Visit the ' +\n",
              "            '<a target=\"_blank\" href=https://colab.research.google.com/notebooks/data_table.ipynb>data table notebook</a>'\n",
              "            + ' to learn more about interactive tables.';\n",
              "          element.innerHTML = '';\n",
              "          dataTable['output_type'] = 'display_data';\n",
              "          await google.colab.output.renderOutput(dataTable, element);\n",
              "          const docLink = document.createElement('div');\n",
              "          docLink.innerHTML = docLinkHtml;\n",
              "          element.appendChild(docLink);\n",
              "        }\n",
              "      </script>\n",
              "    </div>\n",
              "  </div>\n",
              "  "
            ]
          },
          "metadata": {},
          "execution_count": 32
        }
      ]
    },
    {
      "cell_type": "code",
      "source": [
        "#imputing with average value\n",
        "imputer=SimpleImputer(strategy='mean',missing_values=np.nan)\n",
        "df[['sepal_length','petal_length']]=imputer.fit_transform(df[['sepal_length','petal_length']])"
      ],
      "metadata": {
        "id": "1cI5XozySSIB"
      },
      "execution_count": 33,
      "outputs": []
    },
    {
      "cell_type": "code",
      "source": [
        "#custom impute \n",
        "sepal_width_imputer=SimpleImputer(strategy ='constant', fill_value=model_info['design_state_data'][\"feature_handling\"]['sepal_width']['feature_details']['impute_value'])\n",
        "petal_width_imputer=SimpleImputer(strategy ='constant', fill_value=model_info['design_state_data'][\"feature_handling\"]['petal_width']['feature_details']['impute_value'])"
      ],
      "metadata": {
        "id": "zjiGbCnhXprw"
      },
      "execution_count": 34,
      "outputs": []
    },
    {
      "cell_type": "code",
      "source": [
        "#creating the dependent and independent frames\n",
        "x=df.drop([model_info['design_state_data']['target']['target']],axis=1)\n",
        "y=df[model_info['design_state_data']['target']['target']]\n",
        "print(x.head(),'\\n\\n',y.head())"
      ],
      "metadata": {
        "id": "WtC3ej7-i1X_",
        "colab": {
          "base_uri": "https://localhost:8080/"
        },
        "outputId": "0a333dd8-b71a-41eb-dc10-b04ea0145c08"
      },
      "execution_count": 35,
      "outputs": [
        {
          "output_type": "stream",
          "name": "stdout",
          "text": [
            "   sepal_length  sepal_width  petal_length  species_Iris-setosa  \\\n",
            "0           5.1          3.5           1.4                    1   \n",
            "1           4.9          3.0           1.4                    1   \n",
            "2           4.7          3.2           1.3                    1   \n",
            "3           4.6          3.1           1.5                    1   \n",
            "4           5.0          3.6           1.4                    1   \n",
            "\n",
            "   species_Iris-versicolor  species_Iris-virginica  \n",
            "0                        0                       0  \n",
            "1                        0                       0  \n",
            "2                        0                       0  \n",
            "3                        0                       0  \n",
            "4                        0                       0   \n",
            "\n",
            " 0    0.2\n",
            "1    0.2\n",
            "2    0.2\n",
            "3    0.2\n",
            "4    0.2\n",
            "Name: petal_width, dtype: float64\n"
          ]
        }
      ]
    },
    {
      "cell_type": "markdown",
      "source": [
        "**Creating object of each model and fitting the model and calculating mean square error**\n",
        "\n",
        "**I have written code for few machine learning algorithm then we can add more algorithm**\n",
        "\n",
        "**In last I will create a function which will take df, algoparams_from_ui and provide ouput**"
      ],
      "metadata": {
        "id": "G-jDco_DPh5w"
      }
    },
    {
      "cell_type": "code",
      "source": [
        "#creating all the models specified \n",
        "model_info['design_state_data']['algorithms'].keys()"
      ],
      "metadata": {
        "colab": {
          "base_uri": "https://localhost:8080/"
        },
        "id": "JOOX--iwgs2v",
        "outputId": "ebaec4a0-a461-4d2d-b486-b78fcd1a8341"
      },
      "execution_count": null,
      "outputs": [
        {
          "output_type": "execute_result",
          "data": {
            "text/plain": [
              "dict_keys(['RandomForestClassifier', 'RandomForestRegressor', 'GBTClassifier', 'GBTRegressor', 'LinearRegression', 'LogisticRegression', 'RidgeRegression', 'LassoRegression', 'ElasticNetRegression', 'xg_boost', 'DecisionTreeRegressor', 'DecisionTreeClassifier', 'SVM', 'SGD', 'KNN', 'extra_random_trees', 'neural_network'])"
            ]
          },
          "metadata": {},
          "execution_count": 11
        }
      ]
    },
    {
      "cell_type": "code",
      "source": [
        "#performing train test split\n",
        "from sklearn.model_selection import  train_test_split\n",
        "xtrain,xtest,ytrain,ytest=train_test_split(x,y,test_size=0.2,shuffle=True)"
      ],
      "metadata": {
        "id": "sdI1neV3V5Qm"
      },
      "execution_count": 36,
      "outputs": []
    },
    {
      "cell_type": "code",
      "source": [
        "from sklearn.ensemble import RandomForestRegressor,RandomForestClassifier,GradientBoostingClassifier,GradientBoostingRegressor\n",
        "from sklearn.metrics import mean_squared_error,accuracy_score\n",
        "\n",
        "#in tree reduction most of the parameter are already in place with model only max_feature was not present so coded for that \n",
        "try:\n",
        "  no_of_feature=float(model_info['design_state_data'][\"feature_reduction\"]['num_of_features_to_keep'])\n",
        "  n_features=3#total number of features\n",
        "  max_feature=no_of_feature/n_features\n",
        "  if max_feature>1.0:\n",
        "    max_feature=1.0\n",
        "except Exception as e:\n",
        "  max_feature=1.0\n",
        "\n",
        "rf_model=RandomForestRegressor(n_estimators=model_info['design_state_data']['algorithms']['RandomForestRegressor'][\"max_trees\"], criterion='squared_error', \n",
        "                      max_depth=model_info['design_state_data']['algorithms']['RandomForestRegressor'][\"max_depth\"], min_samples_split=2, \n",
        "                      min_samples_leaf=model_info['design_state_data']['algorithms']['RandomForestRegressor'][\"min_samples_per_leaf_max_value\"], \n",
        "                      min_weight_fraction_leaf=0.0, max_features=max_feature, max_leaf_nodes=None,\n",
        "                      min_impurity_decrease=0.0, bootstrap=True, oob_score=False, n_jobs=None, random_state=1, verbose=0, \n",
        "                      warm_start=False, ccp_alpha=0.0, max_samples=None)\n",
        "\n",
        "\n",
        "param_grid={'n_estimators':np.arange(model_info['design_state_data']['algorithms']['RandomForestRegressor'][\"min_trees\"],model_info['design_state_data']['algorithms']['RandomForestRegressor'][\"max_trees\"]+1),\n",
        "            'max_depth':np.arange(model_info['design_state_data']['algorithms']['RandomForestRegressor'][\"min_depth\"],model_info['design_state_data']['algorithms']['RandomForestRegressor'][\"max_depth\"]+1),\n",
        "            'min_samples_leaf':np.arange(model_info['design_state_data']['algorithms']['RandomForestRegressor'][\"min_samples_per_leaf_min_value\"],model_info['design_state_data']['algorithms']['RandomForestRegressor'][\"min_samples_per_leaf_max_value\"]+1)}\n",
        "\n",
        "cv_rf_model=GridSearchCV(rf_model, param_grid, scoring=None, n_jobs=model_info['design_state_data'][\"hyperparameters\"][\"parallelism\"], refit=True, \n",
        "                         cv=model_info['design_state_data'][\"hyperparameters\"][\"num_of_folds\"],\n",
        "                         verbose=0, pre_dispatch='2*n_jobs', error_score=np.nan, return_train_score=False)\n",
        "\n",
        "cv_rf_model.fit(xtrain,ytrain)\n",
        "pred_y=cv_rf_model.predict(xtest)\n",
        "print(f\"Random Forest Regressor  mean squared error is {round(mean_squared_error(ytest,pred_y),2)}\")"
      ],
      "metadata": {
        "id": "tVQM3pqXhdi2",
        "colab": {
          "base_uri": "https://localhost:8080/"
        },
        "outputId": "33fce341-00a1-43d5-979d-5e671021ad2a"
      },
      "execution_count": 47,
      "outputs": [
        {
          "output_type": "stream",
          "name": "stdout",
          "text": [
            "Random Forest Regressor  mean squared error is 0.02\n"
          ]
        }
      ]
    },
    {
      "cell_type": "code",
      "source": [
        "rf_model=RandomForestClassifier(n_estimators=model_info['design_state_data']['algorithms']['RandomForestClassifier'][\"max_trees\"], criterion='gini', \n",
        "                       max_depth=model_info['design_state_data']['algorithms']['RandomForestClassifier'][\"max_depth\"],\n",
        "                       min_samples_split=2, min_samples_leaf=model_info['design_state_data']['algorithms']['RandomForestClassifier'][\"min_samples_per_leaf_max_value\"],\n",
        "                       min_weight_fraction_leaf=0.0, max_features=max_feature, max_leaf_nodes=None, min_impurity_decrease=0.0, bootstrap=True,\n",
        "                       oob_score=False, n_jobs=None, random_state=1, verbose=0, warm_start=False, class_weight=None, ccp_alpha=0.0, max_samples=None)\n",
        "\n",
        "param_grid={'n_estimators':np.arange(model_info['design_state_data']['algorithms']['RandomForestClassifier'][\"min_trees\"],model_info['design_state_data']['algorithms']['RandomForestClassifier'][\"max_trees\"]+1),\n",
        "            'max_depth':np.arange(model_info['design_state_data']['algorithms']['RandomForestClassifier'][\"min_depth\"],model_info['design_state_data']['algorithms']['RandomForestClassifier'][\"max_depth\"]+1),\n",
        "            'min_samples_leaf':np.arange(model_info['design_state_data']['algorithms']['RandomForestClassifier'][\"min_samples_per_leaf_min_value\"],model_info['design_state_data']['algorithms']['RandomForestClassifier'][\"min_samples_per_leaf_max_value\"]+1)}\n",
        "\n",
        "cv_rf_model=GridSearchCV(rf_model, param_grid, scoring=None, n_jobs=model_info['design_state_data'][\"hyperparameters\"][\"parallelism\"], refit=True, \n",
        "                         cv=model_info['design_state_data'][\"hyperparameters\"][\"num_of_folds\"],\n",
        "                         verbose=0, pre_dispatch='2*n_jobs', error_score=np.nan, return_train_score=False)\n",
        "\n",
        "\n",
        "rf_model.fit(xtrain,ytrain)\n",
        "pred_y=rf_model.predict(xtest)\n",
        "print(f\"Random Forest classifier  accuracy is {accuracy_score(ytest,pred_y)}\")"
      ],
      "metadata": {
        "id": "v1jpC1HXnOgt"
      },
      "execution_count": 60,
      "outputs": []
    },
    {
      "cell_type": "code",
      "source": [
        "gbc_model=GradientBoostingClassifier(loss='log_loss', learning_rate=0.1, n_estimators=5, subsample=1.0, criterion='friedman_mse', min_samples_split=2, \n",
        "                                            min_samples_leaf=1, min_weight_fraction_leaf=0.0, max_depth=model_info['design_state_data']['algorithms']['GBTClassifier'][\"max_depth\"],\n",
        "                                            min_impurity_decrease=0.0, init=None, random_state=1, \n",
        "                                            max_features=max_feature, verbose=0, max_leaf_nodes=None, warm_start=False, validation_fraction=0.1, n_iter_no_change=None, tol=0.0001, ccp_alpha=0.0)\n",
        "\n",
        "param_grid={'subsample':np.arange(model_info['design_state_data']['algorithms']['GBTClassifier'][\"min_subsample\"],model_info['design_state_data']['algorithms']['GBTClassifier'][\"max_subsample\"]+1),\n",
        "            'max_depth':np.arange(model_info['design_state_data']['algorithms']['GBTClassifier'][\"min_depth\"],model_info['design_state_data']['algorithms']['GBTClassifier'][\"max_depth\"]+1),\n",
        "            'n_iter_no_change':np.arange(model_info['design_state_data']['algorithms']['GBTClassifier'][\"min_iter\"],model_info['design_state_data']['algorithms']['GBTClassifier'][\"max_iter\"]+1)}\n",
        "\n",
        "cv_gb_model=GridSearchCV(gbc_model, param_grid, scoring=None, n_jobs=model_info['design_state_data'][\"hyperparameters\"][\"parallelism\"], refit=True, \n",
        "                         cv=model_info['design_state_data'][\"hyperparameters\"][\"num_of_folds\"],\n",
        "                         verbose=0, pre_dispatch='2*n_jobs', error_score=np.nan, return_train_score=False)\n",
        "\n",
        "cv_gb_model.fit(xtrain,ytrain)\n",
        "pred_y=cv_gb_model.predict(xtest)\n",
        "print(f\"Gradient Boosted classifier  accuracy is {accuracy_score(ytest,pred_y)}\")"
      ],
      "metadata": {
        "id": "iW1AMWVur28Y"
      },
      "execution_count": 63,
      "outputs": []
    },
    {
      "cell_type": "code",
      "source": [
        "gbr_model=GradientBoostingRegressor(loss='squared_error', learning_rate=0.1, n_estimators=10, subsample=0.5, criterion='friedman_mse', min_samples_split=2,\n",
        "                                            min_samples_leaf=1, min_weight_fraction_leaf=0.0, max_depth=model_info['design_state_data']['algorithms']['GBTRegressor'][\"max_depth\"], min_impurity_decrease=0.0, init=None, random_state=1,\n",
        "                                           max_features=None, alpha=0.9, verbose=0, max_leaf_nodes=None, warm_start=False, validation_fraction=0.1, n_iter_no_change=None, tol=0.0001, ccp_alpha=0.0)\n",
        "\n",
        "\n",
        "param_grid={'subsample':np.arange(model_info['design_state_data']['algorithms']['GBTRegressor'][\"min_subsample\"],model_info['design_state_data']['algorithms']['GBTRegressor'][\"max_subsample\"]+1),\n",
        "            'max_depth':np.arange(model_info['design_state_data']['algorithms']['GBTRegressor'][\"min_depth\"],model_info['design_state_data']['algorithms']['GBTRegressor'][\"max_depth\"]+1),\n",
        "            'n_iter_no_change':np.arange(model_info['design_state_data']['algorithms']['GBTRegressor'][\"min_iter\"],model_info['design_state_data']['algorithms']['GBTRegressor'][\"max_iter\"]+1)}\n",
        "\n",
        "cv_gb_model=GridSearchCV(gbr_model, param_grid, scoring=None, n_jobs=model_info['design_state_data'][\"hyperparameters\"][\"parallelism\"], refit=True, \n",
        "                         cv=model_info['design_state_data'][\"hyperparameters\"][\"num_of_folds\"],\n",
        "                         verbose=0, pre_dispatch='2*n_jobs', error_score=np.nan, return_train_score=False)\n",
        "\n",
        "cv_gb_model.fit(xtrain,ytrain)\n",
        "pred_y=cv_gb_model.predict(xtest)\n",
        "print(f\"Gradient Boosted Regressor  mean squared error is {round(mean_squared_error(ytest,pred_y),2)}\")"
      ],
      "metadata": {
        "colab": {
          "base_uri": "https://localhost:8080/"
        },
        "id": "waYjRdSI2rna",
        "outputId": "c89ba1e8-4757-4cd3-efe1-7d2e278fa9be"
      },
      "execution_count": 69,
      "outputs": [
        {
          "output_type": "stream",
          "name": "stdout",
          "text": [
            "Gradient Boosted Regressor  mean squared error is 0.09\n"
          ]
        }
      ]
    },
    {
      "cell_type": "code",
      "source": [
        "from sklearn.linear_model import LinearRegression\n",
        "lr=LinearRegression(fit_intercept=True, normalize='deprecated', copy_X=True, n_jobs=None, positive=False)\n",
        "lr.fit(xtrain,ytrain)\n",
        "pred_y=lr.predict(xtest)\n",
        "print(f\"Linear Regression  mean squared error is {round(mean_squared_error(ytest,pred_y),2)}\")"
      ],
      "metadata": {
        "colab": {
          "base_uri": "https://localhost:8080/"
        },
        "id": "tTtQ-_1L5UXm",
        "outputId": "335c5a33-2982-4274-a371-504419b61384"
      },
      "execution_count": 70,
      "outputs": [
        {
          "output_type": "stream",
          "name": "stdout",
          "text": [
            "Linear Regression  mean squared error is 0.02\n"
          ]
        }
      ]
    },
    {
      "cell_type": "code",
      "source": [
        "from sklearn.linear_model import LogisticRegression\n",
        "logr=LogisticRegression(penalty='l2',dual=False, tol=0.0001, C=1.0, fit_intercept=True, intercept_scaling=1, class_weight=None, random_state=1,\n",
        "                   solver='lbfgs', max_iter=model_info['design_state_data']['algorithms']['LogisticRegression'][\"max_iter\"],\n",
        "                    multi_class='auto', verbose=0, warm_start=False, n_jobs=None, l1_ratio=None)\n",
        "\n",
        "param_grid={'max_iter':np.arange(model_info['design_state_data']['algorithms']['LogisticRegression'][\"min_iter\"],model_info['design_state_data']['algorithms']['LogisticRegression'][\"max_iter\"]+1),\n",
        "            }\n",
        "\n",
        "cv_logr_model=GridSearchCV(logr, param_grid, scoring=None, n_jobs=model_info['design_state_data'][\"hyperparameters\"][\"parallelism\"], refit=True, \n",
        "                         cv=model_info['design_state_data'][\"hyperparameters\"][\"num_of_folds\"],\n",
        "                         verbose=0, pre_dispatch='2*n_jobs', error_score=np.nan, return_train_score=False)\n",
        "\n",
        "cv_logr_model.fit(xtrain,ytrain)\n",
        "pred_y=cv_logr_model.predict(xtest)\n",
        "print(f\"Logistic Regression  accuracy is {accuracy_score(ytest,pred_y)}\")"
      ],
      "metadata": {
        "id": "bL9B3HfR7JJr"
      },
      "execution_count": 71,
      "outputs": []
    },
    {
      "cell_type": "code",
      "source": [
        "model_info['design_state_data']['algorithms']['SGD']"
      ],
      "metadata": {
        "colab": {
          "base_uri": "https://localhost:8080/"
        },
        "id": "vzG8zHGCsC1Q",
        "outputId": "e1086d2f-6ff4-40d9-bf74-de6e74c625bb"
      },
      "execution_count": null,
      "outputs": [
        {
          "output_type": "execute_result",
          "data": {
            "text/plain": [
              "{'alpha_value': [79, 56],\n",
              " 'is_selected': False,\n",
              " 'max_iterations': False,\n",
              " 'model_name': 'Stochastic Gradient Descent',\n",
              " 'parallelism': 1,\n",
              " 'tolerance': 56,\n",
              " 'use_elastic_net_regularization': True,\n",
              " 'use_l1_regularization': 'on',\n",
              " 'use_l2_regularization': 'on',\n",
              " 'use_logistics': True,\n",
              " 'use_modified_hubber_loss': False}"
            ]
          },
          "metadata": {},
          "execution_count": 43
        }
      ]
    },
    {
      "cell_type": "code",
      "source": [
        "from sklearn.linear_model import Ridge\n",
        "rr=Ridge(alpha=1.0, fit_intercept=True, normalize='deprecated', copy_X=True, max_iter=None, \n",
        "      tol=0.001, solver='auto', positive=False, random_state=None)\n",
        "\n",
        "param_grid={'max_iter':np.arange(model_info['design_state_data']['algorithms'][\"RidgeRegression\"][\"min_iter\"],model_info['design_state_data']['algorithms'][\"RidgeRegression\"][\"max_iter\"]+1),\n",
        "            }\n",
        "\n",
        "cv_rr_model=GridSearchCV(rr, param_grid, scoring=None, n_jobs=model_info['design_state_data'][\"hyperparameters\"][\"parallelism\"], refit=True, \n",
        "                         cv=model_info['design_state_data'][\"hyperparameters\"][\"num_of_folds\"],\n",
        "                         verbose=0, pre_dispatch='2*n_jobs', error_score=np.nan, return_train_score=False)\n",
        "\n",
        "cv_rr_model.fit(xtrain,ytrain)\n",
        "pred_y=cv_rr_model.predict(xtest)\n",
        "\n",
        "print(f\"Ridge Regressor  mean squared error is {round(mean_squared_error(ytest,pred_y),2)}\")"
      ],
      "metadata": {
        "colab": {
          "base_uri": "https://localhost:8080/"
        },
        "id": "Cx9GdThL7UtH",
        "outputId": "c48e091a-a7ba-47b5-d297-76f530d708bf"
      },
      "execution_count": 73,
      "outputs": [
        {
          "output_type": "stream",
          "name": "stdout",
          "text": [
            "Ridge Regressor  mean squared error is 0.02\n"
          ]
        }
      ]
    },
    {
      "cell_type": "code",
      "source": [
        "from sklearn.linear_model import Lasso\n",
        "lr=Lasso(alpha=1.0,fit_intercept=True, normalize='deprecated', precompute=False, copy_X=True, max_iter=1000, tol=0.0001, \n",
        "                        warm_start=False, positive=False, random_state=None, selection='cyclic')\n",
        "\n",
        "param_grid={'max_iter':np.arange(model_info['design_state_data']['algorithms'][\"LassoRegression\"][\"min_iter\"],model_info['design_state_data']['algorithms'][\"LassoRegression\"][\"max_iter\"]+1),\n",
        "            }\n",
        "\n",
        "\n",
        "cv_lr_model=GridSearchCV(lr, param_grid, scoring=None, n_jobs=model_info['design_state_data'][\"hyperparameters\"][\"parallelism\"], refit=True, \n",
        "                         cv=model_info['design_state_data'][\"hyperparameters\"][\"num_of_folds\"],\n",
        "                         verbose=0, pre_dispatch='2*n_jobs', error_score=np.nan, return_train_score=False)\n",
        "\n",
        "cv_lr_model.fit(xtrain,ytrain)\n",
        "pred_y=cv_lr_model.predict(xtest)\n",
        "print(f\"Lasso Regressor  mean squared error is {round(mean_squared_error(ytest,pred_y),2)}\")"
      ],
      "metadata": {
        "id": "5TJ81qBY7V6A",
        "colab": {
          "base_uri": "https://localhost:8080/"
        },
        "outputId": "2f39fa1a-04b9-484b-ba57-b5982647f19c"
      },
      "execution_count": 75,
      "outputs": [
        {
          "output_type": "stream",
          "name": "stdout",
          "text": [
            "Lasso Regressor  mean squared error is 0.36\n"
          ]
        }
      ]
    },
    {
      "cell_type": "code",
      "source": [
        "model_info['design_state_data']['algorithms'][\"DecisionTreeRegressor\"][\"use_gini\"]"
      ],
      "metadata": {
        "colab": {
          "base_uri": "https://localhost:8080/"
        },
        "id": "w0zKlfboaLxf",
        "outputId": "5b86fc93-1be5-4356-d5b4-429a85f96bec"
      },
      "execution_count": 79,
      "outputs": [
        {
          "output_type": "execute_result",
          "data": {
            "text/plain": [
              "False"
            ]
          },
          "metadata": {},
          "execution_count": 79
        }
      ]
    },
    {
      "cell_type": "code",
      "source": [
        "from sklearn.tree import DecisionTreeRegressor\n",
        "\n",
        "\n",
        "dtr=DecisionTreeRegressor(criterion='squared_error', splitter='best', max_depth=None, min_samples_split=2, min_samples_leaf=1, \n",
        "                          min_weight_fraction_leaf=0.0, max_features=max_feature, random_state=1, max_leaf_nodes=None, \n",
        "                          min_impurity_decrease=0.0, ccp_alpha=0.0)\n",
        "\n",
        "\n",
        "param_grid={'max_depth':np.arange(model_info['design_state_data']['algorithms'][\"DecisionTreeRegressor\"][\"min_depth\"],model_info['design_state_data']['algorithms'][\"DecisionTreeRegressor\"][\"max_depth\"]+1)}\n",
        "\n",
        "cv_dtr_model=GridSearchCV(dtr, param_grid, scoring=None, n_jobs=model_info['design_state_data'][\"hyperparameters\"][\"parallelism\"], refit=True, \n",
        "                         cv=model_info['design_state_data'][\"hyperparameters\"][\"num_of_folds\"],\n",
        "                         verbose=0, pre_dispatch='2*n_jobs', error_score=np.nan, return_train_score=False)\n",
        "\n",
        "cv_dtr_model.fit(xtrain,ytrain)\n",
        "pred_y=cv_dtr_model.predict(xtest)\n",
        "print(f\"Decision Tree Regression  mean square error is {round(mean_squared_error(ytest,pred_y),2)}\")"
      ],
      "metadata": {
        "colab": {
          "base_uri": "https://localhost:8080/"
        },
        "id": "oOWZ64PQ71SC",
        "outputId": "69eebe38-bbab-4231-9551-c69ba28bf023"
      },
      "execution_count": 82,
      "outputs": [
        {
          "output_type": "stream",
          "name": "stdout",
          "text": [
            "Decision Tree Regression  mean square error is 0.04\n"
          ]
        }
      ]
    },
    {
      "cell_type": "code",
      "source": [
        "from sklearn.tree import DecisionTreeClassifier\n",
        "\n",
        "if model_info['design_state_data']['algorithms'][\"DecisionTreeClassifier\"][\"use_gini\"]==False:\n",
        "  criterion='entropy'\n",
        "else:\n",
        "  criterion='gini'\n",
        "\n",
        "dtc=DecisionTreeClassifier(criterion=criterion, splitter='best', max_depth=None, min_samples_split=2, min_samples_leaf=1,\n",
        "                                    min_weight_fraction_leaf=0.0, max_features=max_feature, random_state=1, max_leaf_nodes=None, min_impurity_decrease=0.0, \n",
        "                                    class_weight=None, ccp_alpha=0.0)\n",
        "\n",
        "param_grid={'max_depth':np.arange(model_info['design_state_data']['algorithms'][\"DecisionTreeClassifier\"][\"min_depth\"],model_info['design_state_data']['algorithms'][\"DecisionTreeClassifier\"][\"max_depth\"]+1)}\n",
        "\n",
        "cv_dtc_model=GridSearchCV(dtc, param_grid, scoring=None, n_jobs=model_info['design_state_data'][\"hyperparameters\"][\"parallelism\"], refit=True, \n",
        "                         cv=model_info['design_state_data'][\"hyperparameters\"][\"num_of_folds\"],\n",
        "                         verbose=0, pre_dispatch='2*n_jobs', error_score=np.nan, return_train_score=False)\n",
        "\n",
        "cv_dtc_model.fit(xtrain,ytrain)\n",
        "pred_y=cv_dtc_model.predict(xtest)\n",
        "print(f\"Decision Tree classifier  accuracy is {accuracy_score(ytest,pred_y)}\")"
      ],
      "metadata": {
        "id": "po4MweDi8m47"
      },
      "execution_count": 84,
      "outputs": []
    },
    {
      "cell_type": "code",
      "source": [
        "from sklearn.linear_model import SGDRegressor\n",
        "sgd=SGDRegressor(loss='squared_error',penalty='l2', alpha=model_info['design_state_data']['algorithms']['SGD'][\"alpha_value\"][0], l1_ratio=0.15,\n",
        "                                  fit_intercept=True, max_iter=1000, tol=model_info['design_state_data']['algorithms']['SGD'][\"tolerance\"], \n",
        "                                  shuffle=True, verbose=0, epsilon=0.1, random_state=None, learning_rate='invscaling', eta0=0.01, power_t=0.25, \n",
        "                                  early_stopping=False, validation_fraction=0.1, n_iter_no_change=5, warm_start=False, average=False)\n",
        "\n",
        "sgd.fit(xtrain,ytrain)\n",
        "pred_y=sgd.predict(xtest)\n",
        "print(f\"SGD Regression  mean squared error is {round(mean_squared_error(ytest,pred_y),2)}\")"
      ],
      "metadata": {
        "colab": {
          "base_uri": "https://localhost:8080/"
        },
        "id": "5sK429bf8pTY",
        "outputId": "15d034dc-be9e-4913-f63c-96f989a275d1"
      },
      "execution_count": null,
      "outputs": [
        {
          "output_type": "stream",
          "name": "stdout",
          "text": [
            "SGD Regression  mean squared error is 0.88\n"
          ]
        }
      ]
    },
    {
      "cell_type": "code",
      "source": [
        "#finding out which model to run\n",
        "model_instance={}\n",
        "for name in model_info['design_state_data']['algorithms'].keys():\n",
        "  model_instance[name]=model_info['design_state_data']['algorithms'][name]['is_selected']\n",
        "model_instance"
      ],
      "metadata": {
        "colab": {
          "base_uri": "https://localhost:8080/"
        },
        "id": "mwcSX9bK5eFH",
        "outputId": "eaa5bbc4-51b9-4ebd-af5d-ff0340b9f580"
      },
      "execution_count": null,
      "outputs": [
        {
          "output_type": "execute_result",
          "data": {
            "text/plain": [
              "{'DecisionTreeClassifier': False,\n",
              " 'DecisionTreeRegressor': False,\n",
              " 'ElasticNetRegression': False,\n",
              " 'GBTClassifier': False,\n",
              " 'GBTRegressor': False,\n",
              " 'KNN': False,\n",
              " 'LassoRegression': False,\n",
              " 'LinearRegression': False,\n",
              " 'LogisticRegression': False,\n",
              " 'RandomForestClassifier': False,\n",
              " 'RandomForestRegressor': True,\n",
              " 'RidgeRegression': False,\n",
              " 'SGD': False,\n",
              " 'SVM': False,\n",
              " 'extra_random_trees': False,\n",
              " 'neural_network': False,\n",
              " 'xg_boost': False}"
            ]
          },
          "metadata": {},
          "execution_count": 54
        }
      ]
    },
    {
      "cell_type": "markdown",
      "source": [
        "## **Version 2.0**\n",
        "\n",
        "##**A few points to fix and try again:**\n",
        "\n",
        " \n",
        "\n",
        "1. Your code should be generic enough to handle different JSON files\n",
        "You are skipping hyper params and GridSearch as you do not fit the model on the CV object\n",
        "\n",
        "\n",
        "\n",
        "> **Performed hyperparameter tuning using grid search**\n",
        "\n",
        "\n",
        "\n",
        "2. It is ok to have the exploratory code on top, but what we are looking for in a successful test submitted back is bucketed into four parts:\n",
        "Code that can parse the JSON properly\n",
        "\n",
        "> **Tried to parse the json file available information**\n",
        "\n",
        "3. Do the Feature handling properly. Keep in mind that impute_with can do Average of Values or Mean of Values, and you should have switch conditions to tackle that\n",
        "\n",
        "> **Used SimpleImpute for all the condition**\n",
        "\n",
        "4. Do Feature Reduction – if there is no reduction, do nothing; if the reduction is tree-based, then do that\n",
        "Models Built\n",
        "\n",
        "> **Done Feature Reduction(Most of the parameter of feature reduction were already intact, Just added the max_feature parameter to all tree based model)**"
      ],
      "metadata": {
        "id": "86IU4fYYg9ND"
      }
    },
    {
      "cell_type": "markdown",
      "source": [
        "### **Created function for prediction using the above code**"
      ],
      "metadata": {
        "id": "pyIYRtZJSfAm"
      }
    },
    {
      "cell_type": "markdown",
      "source": [
        "I was unable to find most of parameter specified in the json file for model."
      ],
      "metadata": {
        "id": "feGtvu3LV74C"
      }
    },
    {
      "cell_type": "code",
      "source": [
        "#df:read the iris file \n",
        "#model_info: read the algoparagms_from_ui.json\n",
        "\n",
        "df=pd.read_csv(\"/content/iris.csv\")\n",
        "file=open('/content/algoparams_from_ui.json')\n",
        "model_info=json.load(file)\n",
        "\n",
        "\n",
        "def model_prediction(df,model_info):\n",
        "  #preprocessing and making data ready for model\n",
        "  df=pd.get_dummies(df)\n",
        "  imputer=SimpleImputer(strategy='mean',missing_values=np.nan)\n",
        "  sepal_width_imputer=SimpleImputer(strategy ='constant', fill_value=model_info['design_state_data'][\"feature_handling\"]['sepal_width']['feature_details']['impute_value'])\n",
        "  petal_width_imputer=SimpleImputer(strategy ='constant', fill_value=model_info['design_state_data'][\"feature_handling\"]['petal_width']['feature_details']['impute_value'])\n",
        "  \n",
        "  df[['sepal_length','petal_length']]=imputer.fit_transform(df[['sepal_length','petal_length']])\n",
        "  df[\"sepal_width\"]=sepal_width_imputer.fit_transform(np.array(df[\"sepal_width\"]).reshape(-1, 1))\n",
        "  df[\"petal_width\"]=petal_width_imputer.fit_transform(np.array(df[\"petal_width\"]).reshape(-1,1))\n",
        "\n",
        "  xtrain,xtest,ytrain,ytest=train_test_split(x,y,test_size=0.2,shuffle=True)\n",
        "\n",
        "  #in tree reduction most of the parameter are already in place with model only max_feature was not present so coded for that \n",
        "  try:\n",
        "    no_of_feature=float(model_info['design_state_data'][\"feature_reduction\"]['num_of_features_to_keep'])\n",
        "    n_features=3#total number of features\n",
        "    max_feature=no_of_feature/n_features\n",
        "    if max_feature>1.0:\n",
        "      max_feature=1.0\n",
        "  except Exception as e:\n",
        "    max_feature=1.0\n",
        "\n",
        "\n",
        "\n",
        "  #finding out which model to run\n",
        "  model_instance={}\n",
        "  for name in model_info['design_state_data']['algorithms'].keys():\n",
        "    model_instance[name]=model_info['design_state_data']['algorithms'][name]['is_selected']\n",
        "\n",
        "  if model_instance['RandomForestRegressor']:\n",
        "      rf_model=RandomForestRegressor(n_estimators=model_info['design_state_data']['algorithms']['RandomForestRegressor'][\"max_trees\"], criterion='squared_error', \n",
        "                      max_depth=model_info['design_state_data']['algorithms']['RandomForestRegressor'][\"max_depth\"], min_samples_split=2, \n",
        "                      min_samples_leaf=model_info['design_state_data']['algorithms']['RandomForestRegressor'][\"min_samples_per_leaf_max_value\"], \n",
        "                      min_weight_fraction_leaf=0.0, max_features=max_feature, max_leaf_nodes=None,\n",
        "                      min_impurity_decrease=0.0, bootstrap=True, oob_score=False, n_jobs=None, random_state=1, verbose=0, \n",
        "                      warm_start=False, ccp_alpha=0.0, max_samples=None)\n",
        "\n",
        "\n",
        "      param_grid={'n_estimators':np.arange(model_info['design_state_data']['algorithms']['RandomForestRegressor'][\"min_trees\"],model_info['design_state_data']['algorithms']['RandomForestRegressor'][\"max_trees\"]+1),\n",
        "                  'max_depth':np.arange(model_info['design_state_data']['algorithms']['RandomForestRegressor'][\"min_depth\"],model_info['design_state_data']['algorithms']['RandomForestRegressor'][\"max_depth\"]+1),\n",
        "                  'min_samples_leaf':np.arange(model_info['design_state_data']['algorithms']['RandomForestRegressor'][\"min_samples_per_leaf_min_value\"],model_info['design_state_data']['algorithms']['RandomForestRegressor'][\"min_samples_per_leaf_max_value\"]+1)}\n",
        "\n",
        "      cv_rf_model=GridSearchCV(rf_model, param_grid, scoring=None, n_jobs=model_info['design_state_data'][\"hyperparameters\"][\"parallelism\"], refit=True, \n",
        "                              cv=model_info['design_state_data'][\"hyperparameters\"][\"num_of_folds\"],\n",
        "                              verbose=0, pre_dispatch='2*n_jobs', error_score=np.nan, return_train_score=False)\n",
        "\n",
        "      cv_rf_model.fit(xtrain,ytrain)\n",
        "      pred_y=cv_rf_model.predict(xtest)\n",
        "      print(f\"Random Forest Regressor  mean squared error is {round(mean_squared_error(ytest,pred_y),2)}\")  \n",
        "  \n",
        "  elif model_instance['RandomForestClassifier']:\n",
        "      rf_model=RandomForestClassifier(n_estimators=model_info['design_state_data']['algorithms']['RandomForestClassifier'][\"max_trees\"], criterion='gini', \n",
        "                            max_depth=model_info['design_state_data']['algorithms']['RandomForestClassifier'][\"max_depth\"],\n",
        "                            min_samples_split=2, min_samples_leaf=model_info['design_state_data']['algorithms']['RandomForestClassifier'][\"min_samples_per_leaf_max_value\"],\n",
        "                            min_weight_fraction_leaf=0.0, max_features=max_feature, max_leaf_nodes=None, min_impurity_decrease=0.0, bootstrap=True,\n",
        "                            oob_score=False, n_jobs=None, random_state=1, verbose=0, warm_start=False, class_weight=None, ccp_alpha=0.0, max_samples=None)\n",
        "\n",
        "      param_grid={'n_estimators':np.arange(model_info['design_state_data']['algorithms']['RandomForestClassifier'][\"min_trees\"],model_info['design_state_data']['algorithms']['RandomForestClassifier'][\"max_trees\"]+1),\n",
        "                  'max_depth':np.arange(model_info['design_state_data']['algorithms']['RandomForestClassifier'][\"min_depth\"],model_info['design_state_data']['algorithms']['RandomForestClassifier'][\"max_depth\"]+1),\n",
        "                  'min_samples_leaf':np.arange(model_info['design_state_data']['algorithms']['RandomForestClassifier'][\"min_samples_per_leaf_min_value\"],model_info['design_state_data']['algorithms']['RandomForestClassifier'][\"min_samples_per_leaf_max_value\"]+1)}\n",
        "\n",
        "      cv_rf_model=GridSearchCV(rf_model, param_grid, scoring=None, n_jobs=model_info['design_state_data'][\"hyperparameters\"][\"parallelism\"], refit=True, \n",
        "                              cv=model_info['design_state_data'][\"hyperparameters\"][\"num_of_folds\"],\n",
        "                              verbose=0, pre_dispatch='2*n_jobs', error_score=np.nan, return_train_score=False)\n",
        "\n",
        "\n",
        "      rf_model.fit(xtrain,ytrain)\n",
        "      pred_y=rf_model.predict(xtest)\n",
        "      print(f\"Random Forest classifier  accuracy is {accuracy_score(ytest,pred_y)}\")\n",
        "\n",
        "  elif model_instance['GBTClassifier']:\n",
        "    gbc_model=GradientBoostingClassifier(loss='log_loss', learning_rate=0.1, n_estimators=5, subsample=1.0, criterion='friedman_mse', min_samples_split=2, \n",
        "                                            min_samples_leaf=1, min_weight_fraction_leaf=0.0, max_depth=model_info['design_state_data']['algorithms']['GBTClassifier'][\"max_depth\"],\n",
        "                                            min_impurity_decrease=0.0, init=None, random_state=1, \n",
        "                                            max_features=max_feature, verbose=0, max_leaf_nodes=None, warm_start=False, validation_fraction=0.1, n_iter_no_change=None, tol=0.0001, ccp_alpha=0.0)\n",
        "\n",
        "    param_grid={'subsample':np.arange(model_info['design_state_data']['algorithms']['GBTClassifier'][\"min_subsample\"],model_info['design_state_data']['algorithms']['GBTClassifier'][\"max_subsample\"]+1),\n",
        "                'max_depth':np.arange(model_info['design_state_data']['algorithms']['GBTClassifier'][\"min_depth\"],model_info['design_state_data']['algorithms']['GBTClassifier'][\"max_depth\"]+1),\n",
        "                'n_iter_no_change':np.arange(model_info['design_state_data']['algorithms']['GBTClassifier'][\"min_iter\"],model_info['design_state_data']['algorithms']['GBTClassifier'][\"max_iter\"]+1)}\n",
        "\n",
        "    cv_gb_model=GridSearchCV(gbc_model, param_grid, scoring=None, n_jobs=model_info['design_state_data'][\"hyperparameters\"][\"parallelism\"], refit=True, \n",
        "                            cv=model_info['design_state_data'][\"hyperparameters\"][\"num_of_folds\"],\n",
        "                            verbose=0, pre_dispatch='2*n_jobs', error_score=np.nan, return_train_score=False)\n",
        "\n",
        "    cv_gb_model.fit(xtrain,ytrain)\n",
        "    pred_y=cv_gb_model.predict(xtest)\n",
        "    print(f\"Gradient Boosted classifier  accuracy is {accuracy_score(ytest,pred_y)}\")\n",
        "\n",
        "\n",
        "  elif model_instance['GBTRegressor']:\n",
        "\n",
        "    gbr_model=GradientBoostingRegressor(loss='squared_error', learning_rate=0.1, n_estimators=10, subsample=0.5, criterion='friedman_mse', min_samples_split=2,\n",
        "                                                min_samples_leaf=1, min_weight_fraction_leaf=0.0, max_depth=model_info['design_state_data']['algorithms']['GBTRegressor'][\"max_depth\"], min_impurity_decrease=0.0, init=None, random_state=1,\n",
        "                                              max_features=None, alpha=0.9, verbose=0, max_leaf_nodes=None, warm_start=False, validation_fraction=0.1, n_iter_no_change=None, tol=0.0001, ccp_alpha=0.0)\n",
        "\n",
        "\n",
        "    param_grid={'subsample':np.arange(model_info['design_state_data']['algorithms']['GBTRegressor'][\"min_subsample\"],model_info['design_state_data']['algorithms']['GBTRegressor'][\"max_subsample\"]+1),\n",
        "                'max_depth':np.arange(model_info['design_state_data']['algorithms']['GBTRegressor'][\"min_depth\"],model_info['design_state_data']['algorithms']['GBTRegressor'][\"max_depth\"]+1),\n",
        "                'n_iter_no_change':np.arange(model_info['design_state_data']['algorithms']['GBTRegressor'][\"min_iter\"],model_info['design_state_data']['algorithms']['GBTRegressor'][\"max_iter\"]+1)}\n",
        "\n",
        "    cv_gb_model=GridSearchCV(gbr_model, param_grid, scoring=None, n_jobs=model_info['design_state_data'][\"hyperparameters\"][\"parallelism\"], refit=True, \n",
        "                            cv=model_info['design_state_data'][\"hyperparameters\"][\"num_of_folds\"],\n",
        "                            verbose=0, pre_dispatch='2*n_jobs', error_score=np.nan, return_train_score=False)\n",
        "\n",
        "    cv_gb_model.fit(xtrain,ytrain)\n",
        "    pred_y=cv_gb_model.predict(xtest)\n",
        "    print(f\"Gradient Boosted Regressor  mean squared error is {round(mean_squared_error(ytest,pred_y),2)}\")\n",
        "\n",
        "  elif model_instance['LinearRegression']:\n",
        "    lr=LinearRegression(fit_intercept=True, normalize='deprecated', copy_X=True, n_jobs=None, positive=False)\n",
        "    lr.fit(xtrain,ytrain)\n",
        "    pred_y=lr.predict(xtest)\n",
        "    print(f\"Linear Regression  mean squared error is {round(mean_squared_error(ytest,pred_y),2)}\")\n",
        "\n",
        "  elif model_instance['LogisticRegression']:\n",
        "    logr=LogisticRegression(penalty='l2',dual=False, tol=0.0001, C=1.0, fit_intercept=True, intercept_scaling=1, class_weight=None, random_state=1,\n",
        "                      solver='lbfgs', max_iter=model_info['design_state_data']['algorithms']['LogisticRegression'][\"max_iter\"],\n",
        "                        multi_class='auto', verbose=0, warm_start=False, n_jobs=None, l1_ratio=None)\n",
        "\n",
        "    param_grid={'max_iter':np.arange(model_info['design_state_data']['algorithms']['LogisticRegression'][\"min_iter\"],model_info['design_state_data']['algorithms']['LogisticRegression'][\"max_iter\"]+1),\n",
        "                }\n",
        "\n",
        "    cv_logr_model=GridSearchCV(logr, param_grid, scoring=None, n_jobs=model_info['design_state_data'][\"hyperparameters\"][\"parallelism\"], refit=True, \n",
        "                            cv=model_info['design_state_data'][\"hyperparameters\"][\"num_of_folds\"],\n",
        "                            verbose=0, pre_dispatch='2*n_jobs', error_score=np.nan, return_train_score=False)\n",
        "\n",
        "    cv_logr_model.fit(xtrain,ytrain)\n",
        "    pred_y=cv_logr_model.predict(xtest)\n",
        "    print(f\"Logistic Regression  accuracy is {accuracy_score(ytest,pred_y)}\")\n",
        "\n",
        "  elif model_instance['RidgeRegression']:\n",
        "    rr=Ridge(alpha=1.0, fit_intercept=True, normalize='deprecated', copy_X=True, max_iter=None, \n",
        "          tol=0.001, solver='auto', positive=False, random_state=None)\n",
        "\n",
        "    param_grid={'max_iter':np.arange(model_info['design_state_data']['algorithms'][\"RidgeRegression\"][\"min_iter\"],model_info['design_state_data']['algorithms'][\"RidgeRegression\"][\"max_iter\"]+1),\n",
        "                }\n",
        "\n",
        "    cv_rr_model=GridSearchCV(rr, param_grid, scoring=None, n_jobs=model_info['design_state_data'][\"hyperparameters\"][\"parallelism\"], refit=True, \n",
        "                            cv=model_info['design_state_data'][\"hyperparameters\"][\"num_of_folds\"],\n",
        "                            verbose=0, pre_dispatch='2*n_jobs', error_score=np.nan, return_train_score=False)\n",
        "\n",
        "    cv_rr_model.fit(xtrain,ytrain)\n",
        "    pred_y=cv_rr_model.predict(xtest)\n",
        "\n",
        "    print(f\"Ridge Regressor  mean squared error is {round(mean_squared_error(ytest,pred_y),2)}\")\n",
        "\n",
        "  elif model_instance['LassoRegression']:\n",
        "    lr=Lasso(alpha=1.0,fit_intercept=True, normalize='deprecated', precompute=False, copy_X=True, max_iter=1000, tol=0.0001, \n",
        "                            warm_start=False, positive=False, random_state=None, selection='cyclic')\n",
        "\n",
        "    param_grid={'max_iter':np.arange(model_info['design_state_data']['algorithms'][\"LassoRegression\"][\"min_iter\"],model_info['design_state_data']['algorithms'][\"LassoRegression\"][\"max_iter\"]+1),\n",
        "                }\n",
        "\n",
        "\n",
        "    cv_lr_model=GridSearchCV(lr, param_grid, scoring=None, n_jobs=model_info['design_state_data'][\"hyperparameters\"][\"parallelism\"], refit=True, \n",
        "                            cv=model_info['design_state_data'][\"hyperparameters\"][\"num_of_folds\"],\n",
        "                            verbose=0, pre_dispatch='2*n_jobs', error_score=np.nan, return_train_score=False)\n",
        "\n",
        "    cv_lr_model.fit(xtrain,ytrain)\n",
        "    pred_y=cv_lr_model.predict(xtest)\n",
        "    print(f\"Lasso Regressor  mean squared error is {round(mean_squared_error(ytest,pred_y),2)}\")\n",
        "\n",
        "  elif model_instance['DecisionTreeRegressor']:\n",
        "    dtr=DecisionTreeRegressor(criterion='squared_error', splitter='best', max_depth=None, min_samples_split=2, min_samples_leaf=1, \n",
        "                              min_weight_fraction_leaf=0.0, max_features=max_feature, random_state=1, max_leaf_nodes=None, \n",
        "                              min_impurity_decrease=0.0, ccp_alpha=0.0)\n",
        "\n",
        "\n",
        "    param_grid={'max_depth':np.arange(model_info['design_state_data']['algorithms'][\"DecisionTreeRegressor\"][\"min_depth\"],model_info['design_state_data']['algorithms'][\"DecisionTreeRegressor\"][\"max_depth\"]+1)}\n",
        "\n",
        "    cv_dtr_model=GridSearchCV(dtr, param_grid, scoring=None, n_jobs=model_info['design_state_data'][\"hyperparameters\"][\"parallelism\"], refit=True, \n",
        "                            cv=model_info['design_state_data'][\"hyperparameters\"][\"num_of_folds\"],\n",
        "                            verbose=0, pre_dispatch='2*n_jobs', error_score=np.nan, return_train_score=False)\n",
        "\n",
        "    cv_dtr_model.fit(xtrain,ytrain)\n",
        "    pred_y=cv_dtr_model.predict(xtest)\n",
        "    print(f\"Decision Tree Regression  mean square error is {round(mean_squared_error(ytest,pred_y),2)}\")\n",
        "\n",
        "  elif model_instance['DecisionTreeClassifier']:\n",
        "    if model_info['design_state_data']['algorithms'][\"DecisionTreeClassifier\"][\"use_gini\"]==False:\n",
        "      criterion='entropy'\n",
        "    else:\n",
        "      criterion='gini'\n",
        "\n",
        "    dtc=DecisionTreeClassifier(criterion=criterion, splitter='best', max_depth=None, min_samples_split=2, min_samples_leaf=1,\n",
        "                                        min_weight_fraction_leaf=0.0, max_features=max_feature, random_state=1, max_leaf_nodes=None, min_impurity_decrease=0.0, \n",
        "                                        class_weight=None, ccp_alpha=0.0)\n",
        "\n",
        "    param_grid={'max_depth':np.arange(model_info['design_state_data']['algorithms'][\"DecisionTreeClassifier\"][\"min_depth\"],model_info['design_state_data']['algorithms'][\"DecisionTreeClassifier\"][\"max_depth\"]+1)}\n",
        "\n",
        "    cv_dtc_model=GridSearchCV(dtc, param_grid, scoring=None, n_jobs=model_info['design_state_data'][\"hyperparameters\"][\"parallelism\"], refit=True, \n",
        "                            cv=model_info['design_state_data'][\"hyperparameters\"][\"num_of_folds\"],\n",
        "                            verbose=0, pre_dispatch='2*n_jobs', error_score=np.nan, return_train_score=False)\n",
        "\n",
        "    cv_dtc_model.fit(xtrain,ytrain)\n",
        "    pred_y=cv_dtc_model.predict(xtest)\n",
        "    print(f\"Decision Tree classifier  accuracy is {accuracy_score(ytest,pred_y)}\")\n",
        "\n",
        "  elif model_instance['SGD']:\n",
        "    sgd=SGDRegressor(loss='squared_error',penalty='l2', alpha=model_info['design_state_data']['algorithms']['SGD'][\"alpha_value\"][0], l1_ratio=0.15,\n",
        "                                  fit_intercept=True, max_iter=1000, tol=model_info['design_state_data']['algorithms']['SGD'][\"tolerance\"], \n",
        "                                  shuffle=True, verbose=0, epsilon=0.1, random_state=None, learning_rate='invscaling', eta0=0.01, power_t=0.25, \n",
        "                                  early_stopping=False, validation_fraction=0.1, n_iter_no_change=5, warm_start=False, average=False)\n",
        "\n",
        "    sgd.fit(xtrain,ytrain)\n",
        "    pred_y=sgd.predict(xtest)\n",
        "    print(f\"SGD Regression  mean squared error is {round(mean_squared_error(ytest,pred_y),2)}\")\n",
        "  return 1\n",
        "\n",
        "\n",
        "\n",
        "model_prediction(df,model_info)\n"
      ],
      "metadata": {
        "colab": {
          "base_uri": "https://localhost:8080/"
        },
        "id": "ABbASRcLRVp8",
        "outputId": "e4d84375-79ff-48a0-fdfa-643a6877372b"
      },
      "execution_count": 89,
      "outputs": [
        {
          "output_type": "stream",
          "name": "stdout",
          "text": [
            "Random Forest Regressor  mean squared error is 0.03\n"
          ]
        },
        {
          "output_type": "execute_result",
          "data": {
            "text/plain": [
              "1"
            ]
          },
          "metadata": {},
          "execution_count": 89
        }
      ]
    }
  ]
}